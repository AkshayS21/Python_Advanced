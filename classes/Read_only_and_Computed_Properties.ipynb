{
 "cells": [
  {
   "cell_type": "code",
   "execution_count": 36,
   "metadata": {},
   "outputs": [],
   "source": [
    "# instead of calculating properties everytime we invoke a getter func\n",
    "# calculate once only --> computed property\n",
    "# and calculate only if asked.\n",
    "# called lazy properties.\n",
    "# check course notebook for more examples.\n",
    "\n",
    "# bare attributes can be made into properties w/o breaking backward compatibities\n",
    "#(check the course notebook, same name)\n",
    "\n",
    "\n",
    "# data attributes can be made to return computed values using the \n",
    "# decorator @property"
   ]
  },
  {
   "cell_type": "code",
   "execution_count": null,
   "metadata": {},
   "outputs": [],
   "source": []
  },
  {
   "cell_type": "code",
   "execution_count": 13,
   "metadata": {},
   "outputs": [],
   "source": [
    "from math import pi\n",
    "class Circle():\n",
    "    \n",
    "    def __init__(self, r):\n",
    "        self.radius = r\n",
    "        \n",
    "    @property\n",
    "    def area(self):\n",
    "        return pi * self.radius**2"
   ]
  },
  {
   "cell_type": "code",
   "execution_count": 14,
   "metadata": {},
   "outputs": [],
   "source": [
    "c  = Circle(2)"
   ]
  },
  {
   "cell_type": "code",
   "execution_count": 15,
   "metadata": {},
   "outputs": [
    {
     "data": {
      "text/plain": [
       "12.566370614359172"
      ]
     },
     "execution_count": 15,
     "metadata": {},
     "output_type": "execute_result"
    }
   ],
   "source": [
    "c.area"
   ]
  },
  {
   "cell_type": "code",
   "execution_count": 32,
   "metadata": {},
   "outputs": [],
   "source": [
    "from math import pi\n",
    "class Circle():\n",
    "    \n",
    "    def __init__(self, r):\n",
    "        self._radius = r\n",
    "        self._area = None\n",
    "    \n",
    "    @property # make getter func as obj.radius\n",
    "    def radius(self):\n",
    "        return self._radius # getters should have a return in the end.\n",
    "    \n",
    "    @radius.setter #make setter obj.radius = \n",
    "    def radius(self, value):\n",
    "        self._area = None\n",
    "        if not isinstance(value,numbers.Number):\n",
    "            #setters should have an assigning operation in the end.\n",
    "            self._radius = value\n",
    "    \n",
    "    @property # making getter as obj.area\n",
    "    def area(self):\n",
    "        # self._area will be computed only if it's None.\n",
    "        if self._area == None:\n",
    "            self._area = pi * self._radius**2\n",
    "        return self._area\n",
    "    \n",
    "    # self.radius or self.area will keep the latest value put in it by any\n",
    "    # method. their values don't have to be assigned by dunder init.\n",
    "    #dunder init gets called only when once instance is created and tht's it.\n",
    "    \n",
    "  # also i'm making area as read only and not setter here by not defining\n",
    "# the setter func for it."
   ]
  },
  {
   "cell_type": "code",
   "execution_count": 24,
   "metadata": {},
   "outputs": [],
   "source": [
    "c = Circle(4)"
   ]
  },
  {
   "cell_type": "code",
   "execution_count": 25,
   "metadata": {},
   "outputs": [
    {
     "data": {
      "text/plain": [
       "4"
      ]
     },
     "execution_count": 25,
     "metadata": {},
     "output_type": "execute_result"
    }
   ],
   "source": [
    "c.radius"
   ]
  },
  {
   "cell_type": "code",
   "execution_count": 29,
   "metadata": {},
   "outputs": [
    {
     "data": {
      "text/plain": [
       "50.26548245743669"
      ]
     },
     "execution_count": 29,
     "metadata": {},
     "output_type": "execute_result"
    }
   ],
   "source": [
    "c.area"
   ]
  },
  {
   "cell_type": "code",
   "execution_count": null,
   "metadata": {},
   "outputs": [],
   "source": []
  }
 ],
 "metadata": {
  "kernelspec": {
   "display_name": "Python 3",
   "language": "python",
   "name": "python3"
  },
  "language_info": {
   "codemirror_mode": {
    "name": "ipython",
    "version": 3
   },
   "file_extension": ".py",
   "mimetype": "text/x-python",
   "name": "python",
   "nbconvert_exporter": "python",
   "pygments_lexer": "ipython3",
   "version": "3.6.5"
  }
 },
 "nbformat": 4,
 "nbformat_minor": 2
}
