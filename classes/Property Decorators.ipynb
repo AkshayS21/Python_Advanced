{
 "cells": [
  {
   "cell_type": "code",
   "execution_count": 1,
   "metadata": {},
   "outputs": [],
   "source": [
    "# using @property for get and set\n"
   ]
  },
  {
   "cell_type": "code",
   "execution_count": 2,
   "metadata": {},
   "outputs": [],
   "source": [
    "p = property( fget = lambda self: print(\"getting property...\"))"
   ]
  },
  {
   "cell_type": "code",
   "execution_count": 5,
   "metadata": {},
   "outputs": [
    {
     "data": {
      "text/plain": [
       "<property at 0x1c8c7b6c9a8>"
      ]
     },
     "execution_count": 5,
     "metadata": {},
     "output_type": "execute_result"
    }
   ],
   "source": [
    "p"
   ]
  },
  {
   "cell_type": "code",
   "execution_count": 6,
   "metadata": {
    "collapsed": true
   },
   "outputs": [
    {
     "ename": "AttributeError",
     "evalue": "'property' object has no attribute '__dict__'",
     "output_type": "error",
     "traceback": [
      "\u001b[1;31m---------------------------------------------------------------------------\u001b[0m",
      "\u001b[1;31mAttributeError\u001b[0m                            Traceback (most recent call last)",
      "\u001b[1;32m<ipython-input-6-33b2432b7e42>\u001b[0m in \u001b[0;36m<module>\u001b[1;34m()\u001b[0m\n\u001b[1;32m----> 1\u001b[1;33m \u001b[0mp\u001b[0m\u001b[1;33m.\u001b[0m\u001b[0m__dict__\u001b[0m\u001b[1;33m\u001b[0m\u001b[0m\n\u001b[0m",
      "\u001b[1;31mAttributeError\u001b[0m: 'property' object has no attribute '__dict__'"
     ]
    }
   ],
   "source": [
    "p.__dict__"
   ]
  },
  {
   "cell_type": "code",
   "execution_count": 7,
   "metadata": {},
   "outputs": [
    {
     "data": {
      "text/plain": [
       "mappingproxy({'__getattribute__': <slot wrapper '__getattribute__' of 'property' objects>,\n",
       "              '__get__': <slot wrapper '__get__' of 'property' objects>,\n",
       "              '__set__': <slot wrapper '__set__' of 'property' objects>,\n",
       "              '__delete__': <slot wrapper '__delete__' of 'property' objects>,\n",
       "              '__init__': <slot wrapper '__init__' of 'property' objects>,\n",
       "              '__new__': <function property.__new__(*args, **kwargs)>,\n",
       "              'getter': <method 'getter' of 'property' objects>,\n",
       "              'setter': <method 'setter' of 'property' objects>,\n",
       "              'deleter': <method 'deleter' of 'property' objects>,\n",
       "              'fget': <member 'fget' of 'property' objects>,\n",
       "              'fset': <member 'fset' of 'property' objects>,\n",
       "              'fdel': <member 'fdel' of 'property' objects>,\n",
       "              '__doc__': <member '__doc__' of 'property' objects>,\n",
       "              '__isabstractmethod__': <attribute '__isabstractmethod__' of 'property' objects>})"
      ]
     },
     "execution_count": 7,
     "metadata": {},
     "output_type": "execute_result"
    }
   ],
   "source": [
    "property.__dict__"
   ]
  },
  {
   "cell_type": "code",
   "execution_count": 8,
   "metadata": {},
   "outputs": [],
   "source": [
    "### decorator refresher"
   ]
  },
  {
   "cell_type": "code",
   "execution_count": 9,
   "metadata": {},
   "outputs": [],
   "source": [
    "def my_decorator(func):\n",
    "    \n",
    "    def inner(*args, **kwargs):\n",
    "        print(\"perform decorater operations...\")\n",
    "        \n",
    "        return func(*args,**kwargs)\n",
    "    return inner"
   ]
  },
  {
   "cell_type": "code",
   "execution_count": 14,
   "metadata": {},
   "outputs": [],
   "source": [
    "def adder(a,b):\n",
    "    return a+b"
   ]
  },
  {
   "cell_type": "code",
   "execution_count": 15,
   "metadata": {},
   "outputs": [
    {
     "data": {
      "text/plain": [
       "3"
      ]
     },
     "execution_count": 15,
     "metadata": {},
     "output_type": "execute_result"
    }
   ],
   "source": [
    "adder(1,2)"
   ]
  },
  {
   "cell_type": "code",
   "execution_count": 16,
   "metadata": {},
   "outputs": [],
   "source": [
    "decorated = my_decorator(adder)"
   ]
  },
  {
   "cell_type": "code",
   "execution_count": 17,
   "metadata": {},
   "outputs": [
    {
     "data": {
      "text/plain": [
       "<function __main__.my_decorator.<locals>.inner(*args, **kwargs)>"
      ]
     },
     "execution_count": 17,
     "metadata": {},
     "output_type": "execute_result"
    }
   ],
   "source": [
    "decorated"
   ]
  },
  {
   "cell_type": "code",
   "execution_count": 18,
   "metadata": {},
   "outputs": [
    {
     "name": "stdout",
     "output_type": "stream",
     "text": [
      "perform decorater operations...\n"
     ]
    },
    {
     "data": {
      "text/plain": [
       "14"
      ]
     },
     "execution_count": 18,
     "metadata": {},
     "output_type": "execute_result"
    }
   ],
   "source": [
    "decorated(5,9)"
   ]
  },
  {
   "cell_type": "code",
   "execution_count": 19,
   "metadata": {},
   "outputs": [
    {
     "data": {
      "text/plain": [
       "<function __main__.adder(a, b)>"
      ]
     },
     "execution_count": 19,
     "metadata": {},
     "output_type": "execute_result"
    }
   ],
   "source": [
    "adder"
   ]
  },
  {
   "cell_type": "code",
   "execution_count": 20,
   "metadata": {},
   "outputs": [],
   "source": [
    "# i can also do\n",
    "@my_decorator\n",
    "def adder(a,b):\n",
    "    return a+b\n",
    "\n",
    "# This is like saying,\n",
    "#adder = my_decorator(adder)\n"
   ]
  },
  {
   "cell_type": "code",
   "execution_count": 21,
   "metadata": {},
   "outputs": [
    {
     "data": {
      "text/plain": [
       "<function __main__.my_decorator.<locals>.inner(*args, **kwargs)>"
      ]
     },
     "execution_count": 21,
     "metadata": {},
     "output_type": "execute_result"
    }
   ],
   "source": [
    "adder"
   ]
  },
  {
   "cell_type": "code",
   "execution_count": 22,
   "metadata": {},
   "outputs": [
    {
     "name": "stdout",
     "output_type": "stream",
     "text": [
      "perform decorater operations...\n"
     ]
    },
    {
     "data": {
      "text/plain": [
       "17"
      ]
     },
     "execution_count": 22,
     "metadata": {},
     "output_type": "execute_result"
    }
   ],
   "source": [
    "adder(7,10)"
   ]
  },
  {
   "cell_type": "code",
   "execution_count": 24,
   "metadata": {
    "scrolled": true
   },
   "outputs": [
    {
     "data": {
      "text/plain": [
       "['__class__',\n",
       " '__delattr__',\n",
       " '__delete__',\n",
       " '__dir__',\n",
       " '__doc__',\n",
       " '__eq__',\n",
       " '__format__',\n",
       " '__ge__',\n",
       " '__get__',\n",
       " '__getattribute__',\n",
       " '__gt__',\n",
       " '__hash__',\n",
       " '__init__',\n",
       " '__init_subclass__',\n",
       " '__isabstractmethod__',\n",
       " '__le__',\n",
       " '__lt__',\n",
       " '__ne__',\n",
       " '__new__',\n",
       " '__reduce__',\n",
       " '__reduce_ex__',\n",
       " '__repr__',\n",
       " '__set__',\n",
       " '__setattr__',\n",
       " '__sizeof__',\n",
       " '__str__',\n",
       " '__subclasshook__',\n",
       " 'deleter',\n",
       " 'fdel',\n",
       " 'fget',\n",
       " 'fset',\n",
       " 'getter',\n",
       " 'setter']"
      ]
     },
     "execution_count": 24,
     "metadata": {},
     "output_type": "execute_result"
    }
   ],
   "source": [
    "dir(p)"
   ]
  },
  {
   "cell_type": "code",
   "execution_count": 25,
   "metadata": {},
   "outputs": [
    {
     "name": "stdout",
     "output_type": "stream",
     "text": [
      "property obj name being created...\n"
     ]
    }
   ],
   "source": [
    " class Person:\n",
    "    \"\"\"\n",
    "    This is the doc for Person object\n",
    "    \"\"\"\n",
    "    \n",
    "    def __init__(self, name):\n",
    "        print(\"executing init\")\n",
    "        # name here is the argument passed\n",
    "        #local variable to init, not the name property obj which is outside.\n",
    "        self._name = name\n",
    "    \n",
    "    \n",
    "    def get_name(self):\n",
    "        print(\"getter callled\")\n",
    "        return self._name\n",
    "    \n",
    "    def set_name(self, value):\n",
    "        print(\"setter called\")\n",
    "        if isinstance(value,str) and len(value.strip()) > 0:\n",
    "            self._name = value.strip()\n",
    "        else:\n",
    "            raise ValueError(\"Name must be a non-empty string\")\n",
    "    def del_name(self):\n",
    "        print(\"deletter called\")\n",
    "        del self._name\n",
    "    \n",
    "    # name is a property object\n",
    "    #\"doc\" is docstring for the property object\n",
    "    print(\"property obj name being created...\")\n",
    "    name = property(fget = get_name, fset= set_name, fdel = del_name, doc = \"persons name\")\n",
    "    "
   ]
  },
  {
   "cell_type": "code",
   "execution_count": 26,
   "metadata": {},
   "outputs": [],
   "source": [
    "# this can also be written using @ as below"
   ]
  },
  {
   "cell_type": "code",
   "execution_count": 35,
   "metadata": {},
   "outputs": [
    {
     "name": "stdout",
     "output_type": "stream",
     "text": [
      "property obj name being created...\n"
     ]
    }
   ],
   "source": [
    "class Person:\n",
    "    \"\"\"\n",
    "    This is the doc for Person object\n",
    "    \"\"\"\n",
    "    \n",
    "    def __init__(self, name):\n",
    "        print(\"executing init\")\n",
    "        # name here is the argument passed\n",
    "        #local variable to init, not the name property obj which is outside.\n",
    "        self._name = name\n",
    "    print(\"property obj name being created...\")\n",
    "    @property # name prop. obj created and fget= name func \n",
    "    def name(self):\n",
    "        \"\"\"\n",
    "        Define doc string of the prop obj inside the getter func.\n",
    "        \"\"\"\n",
    "        print(\"getter callled\")\n",
    "        return self._name\n",
    "    \n",
    "    @name.setter # now fset of name prop = name func\n",
    "    # func name must be same as the prop obj name u want, i.e. name here\n",
    "    def name(self, value):\n",
    "        print(\"setter called\")\n",
    "        if isinstance(value,str) and len(value.strip()) > 0:\n",
    "            self._name = value.strip()\n",
    "        else:\n",
    "            raise ValueError(\"Name must be a non-empty string\")\n",
    "    @name.deleter\n",
    "    def name(self):\n",
    "        print(\"deletter called\")\n",
    "        del self._name\n",
    "    \n",
    "    # name is a property object\n",
    "    #\"doc\" is docstring for the property object\n",
    "    #print(\"property obj name being created...\")\n",
    "    #name = property(fget = get_name, fset= set_name, fdel = del_name, doc = \"persons name\")\n",
    "    "
   ]
  },
  {
   "cell_type": "code",
   "execution_count": 28,
   "metadata": {},
   "outputs": [
    {
     "name": "stdout",
     "output_type": "stream",
     "text": [
      "executing init\n"
     ]
    }
   ],
   "source": [
    "p = Person('Alsk')"
   ]
  },
  {
   "cell_type": "code",
   "execution_count": 29,
   "metadata": {},
   "outputs": [
    {
     "name": "stdout",
     "output_type": "stream",
     "text": [
      "getter callled\n"
     ]
    },
    {
     "data": {
      "text/plain": [
       "'Alsk'"
      ]
     },
     "execution_count": 29,
     "metadata": {},
     "output_type": "execute_result"
    }
   ],
   "source": [
    "p.name"
   ]
  },
  {
   "cell_type": "code",
   "execution_count": 30,
   "metadata": {},
   "outputs": [
    {
     "name": "stdout",
     "output_type": "stream",
     "text": [
      "setter called\n"
     ]
    }
   ],
   "source": [
    "p.name = 'jjaa'"
   ]
  },
  {
   "cell_type": "code",
   "execution_count": 31,
   "metadata": {},
   "outputs": [
    {
     "name": "stdout",
     "output_type": "stream",
     "text": [
      "getter callled\n"
     ]
    },
    {
     "data": {
      "text/plain": [
       "'jjaa'"
      ]
     },
     "execution_count": 31,
     "metadata": {},
     "output_type": "execute_result"
    }
   ],
   "source": [
    "p.name"
   ]
  },
  {
   "cell_type": "code",
   "execution_count": 33,
   "metadata": {},
   "outputs": [
    {
     "name": "stdout",
     "output_type": "stream",
     "text": [
      "Help on property:\n",
      "\n",
      "    Define doc string of the prop obj inside getter func.\n",
      "\n"
     ]
    }
   ],
   "source": [
    "help(Person.name) # remember the prop obj belongs to the class, not the instance"
   ]
  },
  {
   "cell_type": "code",
   "execution_count": 34,
   "metadata": {},
   "outputs": [
    {
     "data": {
      "text/plain": [
       "{'_name': 'jjaa'}"
      ]
     },
     "execution_count": 34,
     "metadata": {},
     "output_type": "execute_result"
    }
   ],
   "source": [
    "p.__dict__"
   ]
  },
  {
   "cell_type": "code",
   "execution_count": null,
   "metadata": {},
   "outputs": [],
   "source": []
  }
 ],
 "metadata": {
  "kernelspec": {
   "display_name": "Python 3",
   "language": "python",
   "name": "python3"
  },
  "language_info": {
   "codemirror_mode": {
    "name": "ipython",
    "version": 3
   },
   "file_extension": ".py",
   "mimetype": "text/x-python",
   "name": "python",
   "nbconvert_exporter": "python",
   "pygments_lexer": "ipython3",
   "version": "3.6.5"
  }
 },
 "nbformat": 4,
 "nbformat_minor": 2
}
