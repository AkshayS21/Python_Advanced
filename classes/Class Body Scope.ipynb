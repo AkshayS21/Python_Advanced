{
 "cells": [
  {
   "cell_type": "code",
   "execution_count": 3,
   "metadata": {},
   "outputs": [],
   "source": [
    "Maj = 0\n",
    "Min = 0\n",
    "Rev = 0\n",
    "\n",
    "class MyClass:\n",
    "    Maj = 3\n",
    "    Min = 4\n",
    "    Rev = 6\n",
    "    \n",
    "    def version():\n",
    "        print(\"Python version is {}.{}.{}\".format(Maj, Min, Rev))"
   ]
  },
  {
   "cell_type": "code",
   "execution_count": 6,
   "metadata": {},
   "outputs": [
    {
     "name": "stdout",
     "output_type": "stream",
     "text": [
      "Python version is 0.0.0\n"
     ]
    }
   ],
   "source": [
    "MyClass.version()  \n",
    "# Maj, Min, Rev are taken from scope contaning the class MyClass\n",
    "# because the executing part of the function version is in that scope"
   ]
  },
  {
   "cell_type": "code",
   "execution_count": 7,
   "metadata": {},
   "outputs": [],
   "source": [
    "Maj = 0\n",
    "Min = 0\n",
    "Rev = 0\n",
    "\n",
    "class MyClass:\n",
    "    Maj = 3\n",
    "    Min = 4\n",
    "    Rev = 6\n",
    "    \n",
    "    @classmethod\n",
    "    def cls_version(cls):\n",
    "        print(\"Python version is {}.{}.{}\".format(cls.Maj,cls.Min,cls.Rev))\n",
    "        \n",
    "    def version():\n",
    "        print(\"Python version is {}.{}.{}\".format(Maj,Min,Rev))\n"
   ]
  },
  {
   "cell_type": "code",
   "execution_count": 10,
   "metadata": {},
   "outputs": [
    {
     "name": "stdout",
     "output_type": "stream",
     "text": [
      "Python version is 3.4.6\n"
     ]
    }
   ],
   "source": [
    "MyClass.cls_version() \n",
    "# unless you specifically specify it to use from class"
   ]
  },
  {
   "cell_type": "code",
   "execution_count": 11,
   "metadata": {},
   "outputs": [
    {
     "name": "stdout",
     "output_type": "stream",
     "text": [
      "Python version is 0.0.0\n"
     ]
    }
   ],
   "source": [
    "MyClass.version()"
   ]
  },
  {
   "cell_type": "code",
   "execution_count": null,
   "metadata": {},
   "outputs": [],
   "source": []
  }
 ],
 "metadata": {
  "kernelspec": {
   "display_name": "Python 3",
   "language": "python",
   "name": "python3"
  },
  "language_info": {
   "codemirror_mode": {
    "name": "ipython",
    "version": 3
   },
   "file_extension": ".py",
   "mimetype": "text/x-python",
   "name": "python",
   "nbconvert_exporter": "python",
   "pygments_lexer": "ipython3",
   "version": "3.6.5"
  }
 },
 "nbformat": 4,
 "nbformat_minor": 2
}
